{
 "cells": [
  {
   "cell_type": "markdown",
   "metadata": {},
   "source": [
    "# Import"
   ]
  },
  {
   "cell_type": "code",
   "execution_count": 79,
   "metadata": {
    "collapsed": true
   },
   "outputs": [],
   "source": [
    "% matplotlib inline\n",
    "import matplotlib.pylab as plt\n",
    "import pandas as pd\n",
    "import bokeh.plotting as bplt\n",
    "from IPython.display import display, HTML"
   ]
  },
  {
   "cell_type": "code",
   "execution_count": 19,
   "metadata": {
    "collapsed": false
   },
   "outputs": [
    {
     "data": {
      "text/html": [
       "\n",
       "    <div class=\"bk-root\">\n",
       "        <a href=\"http://bokeh.pydata.org\" target=\"_blank\" class=\"bk-logo bk-logo-small bk-logo-notebook\"></a>\n",
       "        <span id=\"b5ff7239-c3c9-4303-914e-b920baffc44a\">Loading BokehJS ...</span>\n",
       "    </div>"
      ]
     },
     "metadata": {},
     "output_type": "display_data"
    },
    {
     "data": {
      "application/javascript": [
       "\n",
       "(function(global) {\n",
       "  function now() {\n",
       "    return new Date();\n",
       "  }\n",
       "\n",
       "  if (typeof (window._bokeh_onload_callbacks) === \"undefined\") {\n",
       "    window._bokeh_onload_callbacks = [];\n",
       "  }\n",
       "\n",
       "  function run_callbacks() {\n",
       "    window._bokeh_onload_callbacks.forEach(function(callback) { callback() });\n",
       "    delete window._bokeh_onload_callbacks\n",
       "    console.info(\"Bokeh: all callbacks have finished\");\n",
       "  }\n",
       "\n",
       "  function load_libs(js_urls, callback) {\n",
       "    window._bokeh_onload_callbacks.push(callback);\n",
       "    if (window._bokeh_is_loading > 0) {\n",
       "      console.log(\"Bokeh: BokehJS is being loaded, scheduling callback at\", now());\n",
       "      return null;\n",
       "    }\n",
       "    if (js_urls == null || js_urls.length === 0) {\n",
       "      run_callbacks();\n",
       "      return null;\n",
       "    }\n",
       "    console.log(\"Bokeh: BokehJS not loaded, scheduling load and callback at\", now());\n",
       "    window._bokeh_is_loading = js_urls.length;\n",
       "    for (var i = 0; i < js_urls.length; i++) {\n",
       "      var url = js_urls[i];\n",
       "      var s = document.createElement('script');\n",
       "      s.src = url;\n",
       "      s.async = false;\n",
       "      s.onreadystatechange = s.onload = function() {\n",
       "        window._bokeh_is_loading--;\n",
       "        if (window._bokeh_is_loading === 0) {\n",
       "          console.log(\"Bokeh: all BokehJS libraries loaded\");\n",
       "          run_callbacks()\n",
       "        }\n",
       "      };\n",
       "      s.onerror = function() {\n",
       "        console.warn(\"failed to load library \" + url);\n",
       "      };\n",
       "      console.log(\"Bokeh: injecting script tag for BokehJS library: \", url);\n",
       "      document.getElementsByTagName(\"head\")[0].appendChild(s);\n",
       "    }\n",
       "  };\n",
       "\n",
       "  var js_urls = ['https://cdn.pydata.org/bokeh/release/bokeh-0.12.0.min.js', 'https://cdn.pydata.org/bokeh/release/bokeh-widgets-0.12.0.min.js', 'https://cdn.pydata.org/bokeh/release/bokeh-compiler-0.12.0.min.js'];\n",
       "\n",
       "  var inline_js = [\n",
       "    function(Bokeh) {\n",
       "      Bokeh.set_log_level(\"info\");\n",
       "    },\n",
       "    \n",
       "    function(Bokeh) {\n",
       "      Bokeh.$(\"#b5ff7239-c3c9-4303-914e-b920baffc44a\").text(\"BokehJS successfully loaded\");\n",
       "    },\n",
       "    function(Bokeh) {\n",
       "      console.log(\"Bokeh: injecting CSS: https://cdn.pydata.org/bokeh/release/bokeh-0.12.0.min.css\");\n",
       "      Bokeh.embed.inject_css(\"https://cdn.pydata.org/bokeh/release/bokeh-0.12.0.min.css\");\n",
       "      console.log(\"Bokeh: injecting CSS: https://cdn.pydata.org/bokeh/release/bokeh-widgets-0.12.0.min.css\");\n",
       "      Bokeh.embed.inject_css(\"https://cdn.pydata.org/bokeh/release/bokeh-widgets-0.12.0.min.css\");\n",
       "    }\n",
       "  ];\n",
       "\n",
       "  function run_inline_js() {\n",
       "    for (var i = 0; i < inline_js.length; i++) {\n",
       "      inline_js[i](window.Bokeh);\n",
       "    }\n",
       "  }\n",
       "\n",
       "  if (window._bokeh_is_loading === 0) {\n",
       "    console.log(\"Bokeh: BokehJS loaded, going straight to plotting\");\n",
       "    run_inline_js();\n",
       "  } else {\n",
       "    load_libs(js_urls, function() {\n",
       "      console.log(\"Bokeh: BokehJS plotting callback run at\", now());\n",
       "      run_inline_js();\n",
       "    });\n",
       "  }\n",
       "}(this));"
      ]
     },
     "metadata": {},
     "output_type": "display_data"
    }
   ],
   "source": [
    "bplt.output_notebook()"
   ]
  },
  {
   "cell_type": "markdown",
   "metadata": {},
   "source": [
    "# GlobalVariables"
   ]
  },
  {
   "cell_type": "code",
   "execution_count": 29,
   "metadata": {
    "collapsed": true
   },
   "outputs": [],
   "source": [
    "datanames  = ['product', 'sales', 'store', 'test', 'train']\n",
    "sex = ['m', 'w']\n",
    "age = ['00_19', '20_49', '50_']\n",
    "segments = ['m00_19', 'm20_49', 'm50_', 'w00_19', 'w20_49', 'w50_']\n",
    "pids = ['p000', 'p001', 'p002', 'p003', 'p004', 'p005', 'p006', 'p007',\n",
    "       'p008', 'p009', 'p010', 'p011', 'p012', 'p013', 'p014', 'p015',\n",
    "       'p016', 'p017', 'p018', 'p019', 'p020', 'p021', 'p022', 'p023',\n",
    "       'p024', 'p025', 'p026', 'p027', 'p028', 'p029', 'p030', 'p031',\n",
    "       'p032', 'p033', 'p034', 'p035', 'p036', 'p037', 'p038', 'p039',\n",
    "       'p040', 'p041', 'p042', 'p043', 'p044', 'p045', 'p046', 'p047',\n",
    "       'p048', 'p049', 'p050', 'p051', 'p052', 'p053', 'p054', 'p055',\n",
    "       'p056', 'p057', 'p058', 'p059', 'p060', 'p061', 'p062', 'p063',\n",
    "       'p064', 'p065', 'p066', 'p067', 'p068', 'p069', 'p070', 'p071',\n",
    "       'p072']\n",
    "train_dates = [201506, 201507, 201508, 201509, 201510, 201511, 201512, 201601,\n",
    "            201602, 201603, 201604, 201605]"
   ]
  },
  {
   "cell_type": "code",
   "execution_count": null,
   "metadata": {
    "collapsed": true
   },
   "outputs": [],
   "source": []
  },
  {
   "cell_type": "markdown",
   "metadata": {},
   "source": [
    "# LoadingData\n",
    "\n",
    "## MetaData\n",
    "\n",
    "* 店舗数は変化しない\n",
    "* 商品数は増加 (47->73)"
   ]
  },
  {
   "cell_type": "code",
   "execution_count": 4,
   "metadata": {
    "collapsed": false
   },
   "outputs": [],
   "source": [
    "df_dict = {datanames[n] : pd.read_csv('../data/{}.tsv'.format(name), delimiter='\\t') for n, name in enumerate(datanames)}"
   ]
  },
  {
   "cell_type": "code",
   "execution_count": 179,
   "metadata": {
    "collapsed": false,
    "scrolled": false
   },
   "outputs": [
    {
     "data": {
      "text/html": [
       "<div>\n",
       "<table border=\"1\" class=\"dataframe\">\n",
       "  <thead>\n",
       "    <tr style=\"text-align: right;\">\n",
       "      <th>sid</th>\n",
       "      <th>s00000</th>\n",
       "      <th>s00001</th>\n",
       "      <th>s00002</th>\n",
       "      <th>s00003</th>\n",
       "      <th>s00004</th>\n",
       "      <th>s00005</th>\n",
       "      <th>s00006</th>\n",
       "      <th>s00007</th>\n",
       "      <th>s00008</th>\n",
       "      <th>s00009</th>\n",
       "      <th>...</th>\n",
       "      <th>s01473</th>\n",
       "      <th>s01474</th>\n",
       "      <th>s01475</th>\n",
       "      <th>s01476</th>\n",
       "      <th>s01477</th>\n",
       "      <th>s01478</th>\n",
       "      <th>s01479</th>\n",
       "      <th>s01480</th>\n",
       "      <th>s01481</th>\n",
       "      <th>s01482</th>\n",
       "    </tr>\n",
       "  </thead>\n",
       "  <tbody>\n",
       "    <tr>\n",
       "      <th>date</th>\n",
       "      <td>12</td>\n",
       "      <td>12</td>\n",
       "      <td>12</td>\n",
       "      <td>12</td>\n",
       "      <td>12</td>\n",
       "      <td>12</td>\n",
       "      <td>12</td>\n",
       "      <td>12</td>\n",
       "      <td>12</td>\n",
       "      <td>12</td>\n",
       "      <td>...</td>\n",
       "      <td>12</td>\n",
       "      <td>12</td>\n",
       "      <td>12</td>\n",
       "      <td>12</td>\n",
       "      <td>12</td>\n",
       "      <td>12</td>\n",
       "      <td>12</td>\n",
       "      <td>12</td>\n",
       "      <td>12</td>\n",
       "      <td>12</td>\n",
       "    </tr>\n",
       "    <tr>\n",
       "      <th>pid</th>\n",
       "      <td>12</td>\n",
       "      <td>12</td>\n",
       "      <td>12</td>\n",
       "      <td>12</td>\n",
       "      <td>12</td>\n",
       "      <td>12</td>\n",
       "      <td>12</td>\n",
       "      <td>12</td>\n",
       "      <td>12</td>\n",
       "      <td>12</td>\n",
       "      <td>...</td>\n",
       "      <td>12</td>\n",
       "      <td>12</td>\n",
       "      <td>12</td>\n",
       "      <td>12</td>\n",
       "      <td>12</td>\n",
       "      <td>12</td>\n",
       "      <td>12</td>\n",
       "      <td>12</td>\n",
       "      <td>12</td>\n",
       "      <td>12</td>\n",
       "    </tr>\n",
       "    <tr>\n",
       "      <th>segment</th>\n",
       "      <td>12</td>\n",
       "      <td>12</td>\n",
       "      <td>12</td>\n",
       "      <td>12</td>\n",
       "      <td>12</td>\n",
       "      <td>12</td>\n",
       "      <td>12</td>\n",
       "      <td>12</td>\n",
       "      <td>12</td>\n",
       "      <td>12</td>\n",
       "      <td>...</td>\n",
       "      <td>12</td>\n",
       "      <td>12</td>\n",
       "      <td>12</td>\n",
       "      <td>12</td>\n",
       "      <td>12</td>\n",
       "      <td>12</td>\n",
       "      <td>12</td>\n",
       "      <td>12</td>\n",
       "      <td>12</td>\n",
       "      <td>12</td>\n",
       "    </tr>\n",
       "    <tr>\n",
       "      <th>quantity</th>\n",
       "      <td>12</td>\n",
       "      <td>12</td>\n",
       "      <td>12</td>\n",
       "      <td>12</td>\n",
       "      <td>12</td>\n",
       "      <td>12</td>\n",
       "      <td>12</td>\n",
       "      <td>12</td>\n",
       "      <td>12</td>\n",
       "      <td>12</td>\n",
       "      <td>...</td>\n",
       "      <td>12</td>\n",
       "      <td>12</td>\n",
       "      <td>12</td>\n",
       "      <td>12</td>\n",
       "      <td>12</td>\n",
       "      <td>12</td>\n",
       "      <td>12</td>\n",
       "      <td>12</td>\n",
       "      <td>12</td>\n",
       "      <td>12</td>\n",
       "    </tr>\n",
       "  </tbody>\n",
       "</table>\n",
       "<p>4 rows × 1480 columns</p>\n",
       "</div>"
      ],
      "text/plain": [
       "sid       s00000  s00001  s00002  s00003  s00004  s00005  s00006  s00007  \\\n",
       "date          12      12      12      12      12      12      12      12   \n",
       "pid           12      12      12      12      12      12      12      12   \n",
       "segment       12      12      12      12      12      12      12      12   \n",
       "quantity      12      12      12      12      12      12      12      12   \n",
       "\n",
       "sid       s00008  s00009   ...    s01473  s01474  s01475  s01476  s01477  \\\n",
       "date          12      12   ...        12      12      12      12      12   \n",
       "pid           12      12   ...        12      12      12      12      12   \n",
       "segment       12      12   ...        12      12      12      12      12   \n",
       "quantity      12      12   ...        12      12      12      12      12   \n",
       "\n",
       "sid       s01478  s01479  s01480  s01481  s01482  \n",
       "date          12      12      12      12      12  \n",
       "pid           12      12      12      12      12  \n",
       "segment       12      12      12      12      12  \n",
       "quantity      12      12      12      12      12  \n",
       "\n",
       "[4 rows x 1480 columns]"
      ]
     },
     "execution_count": 179,
     "metadata": {},
     "output_type": "execute_result"
    }
   ],
   "source": [
    "df_dict ['sales'].groupby(['date', 'sid']).count().reset_index().groupby('sid').count().T"
   ]
  },
  {
   "cell_type": "code",
   "execution_count": 170,
   "metadata": {
    "collapsed": false,
    "scrolled": true
   },
   "outputs": [
    {
     "data": {
      "text/html": [
       "<div>\n",
       "<table border=\"1\" class=\"dataframe\">\n",
       "  <thead>\n",
       "    <tr style=\"text-align: right;\">\n",
       "      <th></th>\n",
       "      <th>616</th>\n",
       "      <th>617</th>\n",
       "      <th>618</th>\n",
       "      <th>619</th>\n",
       "      <th>620</th>\n",
       "      <th>621</th>\n",
       "      <th>622</th>\n",
       "      <th>623</th>\n",
       "      <th>624</th>\n",
       "      <th>625</th>\n",
       "      <th>...</th>\n",
       "      <th>679</th>\n",
       "      <th>680</th>\n",
       "      <th>681</th>\n",
       "      <th>682</th>\n",
       "      <th>683</th>\n",
       "      <th>684</th>\n",
       "      <th>685</th>\n",
       "      <th>686</th>\n",
       "      <th>687</th>\n",
       "      <th>688</th>\n",
       "    </tr>\n",
       "  </thead>\n",
       "  <tbody>\n",
       "    <tr>\n",
       "      <th>date</th>\n",
       "      <td>201605</td>\n",
       "      <td>201605</td>\n",
       "      <td>201605</td>\n",
       "      <td>201605</td>\n",
       "      <td>201605</td>\n",
       "      <td>201605</td>\n",
       "      <td>201605</td>\n",
       "      <td>201605</td>\n",
       "      <td>201605</td>\n",
       "      <td>201605</td>\n",
       "      <td>...</td>\n",
       "      <td>201605</td>\n",
       "      <td>201605</td>\n",
       "      <td>201605</td>\n",
       "      <td>201605</td>\n",
       "      <td>201605</td>\n",
       "      <td>201605</td>\n",
       "      <td>201605</td>\n",
       "      <td>201605</td>\n",
       "      <td>201605</td>\n",
       "      <td>201605</td>\n",
       "    </tr>\n",
       "    <tr>\n",
       "      <th>pid</th>\n",
       "      <td>p000</td>\n",
       "      <td>p001</td>\n",
       "      <td>p002</td>\n",
       "      <td>p003</td>\n",
       "      <td>p004</td>\n",
       "      <td>p005</td>\n",
       "      <td>p006</td>\n",
       "      <td>p007</td>\n",
       "      <td>p008</td>\n",
       "      <td>p009</td>\n",
       "      <td>...</td>\n",
       "      <td>p063</td>\n",
       "      <td>p064</td>\n",
       "      <td>p065</td>\n",
       "      <td>p066</td>\n",
       "      <td>p067</td>\n",
       "      <td>p068</td>\n",
       "      <td>p069</td>\n",
       "      <td>p070</td>\n",
       "      <td>p071</td>\n",
       "      <td>p072</td>\n",
       "    </tr>\n",
       "    <tr>\n",
       "      <th>quantity</th>\n",
       "      <td>1995.57</td>\n",
       "      <td>5363.72</td>\n",
       "      <td>2098.2</td>\n",
       "      <td>3574.38</td>\n",
       "      <td>3456.76</td>\n",
       "      <td>5806.65</td>\n",
       "      <td>1692.94</td>\n",
       "      <td>2192.7</td>\n",
       "      <td>3816.65</td>\n",
       "      <td>4803.38</td>\n",
       "      <td>...</td>\n",
       "      <td>10902.5</td>\n",
       "      <td>8468.65</td>\n",
       "      <td>1883.44</td>\n",
       "      <td>3484.92</td>\n",
       "      <td>5646.53</td>\n",
       "      <td>5491.68</td>\n",
       "      <td>1493.16</td>\n",
       "      <td>8255.01</td>\n",
       "      <td>1972.45</td>\n",
       "      <td>3656.52</td>\n",
       "    </tr>\n",
       "  </tbody>\n",
       "</table>\n",
       "<p>3 rows × 73 columns</p>\n",
       "</div>"
      ],
      "text/plain": [
       "              616      617     618      619      620      621      622  \\\n",
       "date       201605   201605  201605   201605   201605   201605   201605   \n",
       "pid          p000     p001    p002     p003     p004     p005     p006   \n",
       "quantity  1995.57  5363.72  2098.2  3574.38  3456.76  5806.65  1692.94   \n",
       "\n",
       "             623      624      625   ...         679      680      681  \\\n",
       "date      201605   201605   201605   ...      201605   201605   201605   \n",
       "pid         p007     p008     p009   ...        p063     p064     p065   \n",
       "quantity  2192.7  3816.65  4803.38   ...     10902.5  8468.65  1883.44   \n",
       "\n",
       "              682      683      684      685      686      687      688  \n",
       "date       201605   201605   201605   201605   201605   201605   201605  \n",
       "pid          p066     p067     p068     p069     p070     p071     p072  \n",
       "quantity  3484.92  5646.53  5491.68  1493.16  8255.01  1972.45  3656.52  \n",
       "\n",
       "[3 rows x 73 columns]"
      ]
     },
     "execution_count": 170,
     "metadata": {},
     "output_type": "execute_result"
    }
   ],
   "source": [
    "df_dict ['sales'].groupby(['date', 'pid']).sum().reset_index()[-73:].T"
   ]
  },
  {
   "cell_type": "code",
   "execution_count": 161,
   "metadata": {
    "collapsed": false,
    "scrolled": false
   },
   "outputs": [
    {
     "data": {
      "text/plain": [
       "<matplotlib.axes._subplots.AxesSubplot at 0x1166ed0d0>"
      ]
     },
     "execution_count": 161,
     "metadata": {},
     "output_type": "execute_result"
    },
    {
     "data": {
      "image/png": "[encoded data removed]",
      "text/plain": [
       "<matplotlib.figure.Figure at 0x1164de6d0>"
      ]
     },
     "metadata": {},
     "output_type": "display_data"
    }
   ],
   "source": [
    "df_dict ['sales'].groupby(['date', 'pid']).sum().reset_index().groupby('date').count().pid.plot()"
   ]
  },
  {
   "cell_type": "markdown",
   "metadata": {},
   "source": [
    "# Visualization"
   ]
  },
  {
   "cell_type": "markdown",
   "metadata": {},
   "source": [
    "## Date - TotalSales\n",
    "\n",
    "* 2015.06 ~ 2015.08 : 急低下\n",
    "* 2015.08 ~ 2015.11 : 急上昇\n",
    "* 2015.11 ~ 2016.01 : 線形に上昇 (w00_19のみ線形に低下)\n",
    "* 2016.01 ~ 2016.02 : 低下（28日しかないからではない - 月平均のため）\n",
    "* 2016.02 ~ 2016.04 : 急上昇\n",
    "* 2016.04 ~ 2016.05 : 急低下"
   ]
  },
  {
   "cell_type": "code",
   "execution_count": 44,
   "metadata": {
    "collapsed": false,
    "scrolled": true
   },
   "outputs": [
    {
     "data": {
      "text/html": [
       "<div>\n",
       "<table border=\"1\" class=\"dataframe\">\n",
       "  <thead>\n",
       "    <tr style=\"text-align: right;\">\n",
       "      <th>date</th>\n",
       "      <th>201506</th>\n",
       "      <th>201507</th>\n",
       "      <th>201508</th>\n",
       "      <th>201509</th>\n",
       "      <th>201510</th>\n",
       "      <th>201511</th>\n",
       "      <th>201512</th>\n",
       "      <th>201601</th>\n",
       "      <th>201602</th>\n",
       "      <th>201603</th>\n",
       "      <th>201604</th>\n",
       "      <th>201605</th>\n",
       "    </tr>\n",
       "  </thead>\n",
       "  <tbody>\n",
       "    <tr>\n",
       "      <th>quantity</th>\n",
       "      <td>238731.8719</td>\n",
       "      <td>232554.181</td>\n",
       "      <td>215936.1782</td>\n",
       "      <td>222626.0801</td>\n",
       "      <td>271530.1295</td>\n",
       "      <td>272763.6632</td>\n",
       "      <td>279722.063</td>\n",
       "      <td>298345.2643</td>\n",
       "      <td>290098.1022</td>\n",
       "      <td>324322.9439</td>\n",
       "      <td>338766.1065</td>\n",
       "      <td>321969.899</td>\n",
       "    </tr>\n",
       "  </tbody>\n",
       "</table>\n",
       "</div>"
      ],
      "text/plain": [
       "date           201506      201507       201508       201509       201510  \\\n",
       "quantity  238731.8719  232554.181  215936.1782  222626.0801  271530.1295   \n",
       "\n",
       "date           201511      201512       201601       201602       201603  \\\n",
       "quantity  272763.6632  279722.063  298345.2643  290098.1022  324322.9439   \n",
       "\n",
       "date           201604      201605  \n",
       "quantity  338766.1065  321969.899  "
      ]
     },
     "metadata": {},
     "output_type": "display_data"
    },
    {
     "data": {
      "text/plain": [
       "<matplotlib.axes._subplots.AxesSubplot at 0x12674e290>"
      ]
     },
     "execution_count": 44,
     "metadata": {},
     "output_type": "execute_result"
    },
    {
     "data": {
      "image/png": "[encoded data removed]",
      "text/plain": [
       "<matplotlib.figure.Figure at 0x11c256390>"
      ]
     },
     "metadata": {},
     "output_type": "display_data"
    }
   ],
   "source": [
    "display(df_dict ['sales'].groupby(['date']).sum().T)\n",
    "df_dict ['sales'].groupby(['date']).sum().plot()"
   ]
  },
  {
   "cell_type": "markdown",
   "metadata": {},
   "source": [
    "### Date - TotalSales each sex"
   ]
  },
  {
   "cell_type": "code",
   "execution_count": 56,
   "metadata": {
    "collapsed": false,
    "scrolled": false
   },
   "outputs": [
    {
     "data": {
      "text/html": [
       "<div>\n",
       "<table border=\"1\" class=\"dataframe\">\n",
       "  <thead>\n",
       "    <tr style=\"text-align: right;\">\n",
       "      <th>date</th>\n",
       "      <th>201506</th>\n",
       "      <th>201507</th>\n",
       "      <th>201508</th>\n",
       "      <th>201509</th>\n",
       "      <th>201510</th>\n",
       "      <th>201511</th>\n",
       "      <th>201512</th>\n",
       "      <th>201601</th>\n",
       "      <th>201602</th>\n",
       "      <th>201603</th>\n",
       "      <th>201604</th>\n",
       "      <th>201605</th>\n",
       "    </tr>\n",
       "  </thead>\n",
       "  <tbody>\n",
       "    <tr>\n",
       "      <th>quantity</th>\n",
       "      <td>161131.3742</td>\n",
       "      <td>156905.9987</td>\n",
       "      <td>146351.8578</td>\n",
       "      <td>152802.7148</td>\n",
       "      <td>184457.9029</td>\n",
       "      <td>186366.5743</td>\n",
       "      <td>192759.8785</td>\n",
       "      <td>205266.571</td>\n",
       "      <td>198192.8994</td>\n",
       "      <td>220439.4458</td>\n",
       "      <td>226644.6362</td>\n",
       "      <td>213225.9361</td>\n",
       "    </tr>\n",
       "  </tbody>\n",
       "</table>\n",
       "</div>"
      ],
      "text/plain": [
       "date           201506       201507       201508       201509       201510  \\\n",
       "quantity  161131.3742  156905.9987  146351.8578  152802.7148  184457.9029   \n",
       "\n",
       "date           201511       201512      201601       201602       201603  \\\n",
       "quantity  186366.5743  192759.8785  205266.571  198192.8994  220439.4458   \n",
       "\n",
       "date           201604       201605  \n",
       "quantity  226644.6362  213225.9361  "
      ]
     },
     "metadata": {},
     "output_type": "display_data"
    },
    {
     "data": {
      "text/html": [
       "<div>\n",
       "<table border=\"1\" class=\"dataframe\">\n",
       "  <thead>\n",
       "    <tr style=\"text-align: right;\">\n",
       "      <th>date</th>\n",
       "      <th>201506</th>\n",
       "      <th>201507</th>\n",
       "      <th>201508</th>\n",
       "      <th>201509</th>\n",
       "      <th>201510</th>\n",
       "      <th>201511</th>\n",
       "      <th>201512</th>\n",
       "      <th>201601</th>\n",
       "      <th>201602</th>\n",
       "      <th>201603</th>\n",
       "      <th>201604</th>\n",
       "      <th>201605</th>\n",
       "    </tr>\n",
       "  </thead>\n",
       "  <tbody>\n",
       "    <tr>\n",
       "      <th>quantity</th>\n",
       "      <td>77600.4977</td>\n",
       "      <td>75648.1823</td>\n",
       "      <td>69584.3204</td>\n",
       "      <td>69823.3653</td>\n",
       "      <td>87072.2266</td>\n",
       "      <td>86397.0889</td>\n",
       "      <td>86962.1845</td>\n",
       "      <td>93078.6933</td>\n",
       "      <td>91905.2028</td>\n",
       "      <td>103883.4981</td>\n",
       "      <td>112121.4703</td>\n",
       "      <td>108743.9629</td>\n",
       "    </tr>\n",
       "  </tbody>\n",
       "</table>\n",
       "</div>"
      ],
      "text/plain": [
       "date          201506      201507      201508      201509      201510  \\\n",
       "quantity  77600.4977  75648.1823  69584.3204  69823.3653  87072.2266   \n",
       "\n",
       "date          201511      201512      201601      201602       201603  \\\n",
       "quantity  86397.0889  86962.1845  93078.6933  91905.2028  103883.4981   \n",
       "\n",
       "date           201604       201605  \n",
       "quantity  112121.4703  108743.9629  "
      ]
     },
     "metadata": {},
     "output_type": "display_data"
    },
    {
     "data": {
      "text/plain": [
       "[None, None]"
      ]
     },
     "execution_count": 56,
     "metadata": {},
     "output_type": "execute_result"
    }
   ],
   "source": [
    "[display(df_dict ['sales'][df_dict ['sales'].segment.str.contains(s)].groupby(['date']).sum().T) for s in sex]"
   ]
  },
  {
   "cell_type": "code",
   "execution_count": 85,
   "metadata": {
    "collapsed": false
   },
   "outputs": [
    {
     "data": {
      "text/plain": [
       "[<matplotlib.axes._subplots.AxesSubplot at 0x115a71310>,\n",
       " <matplotlib.axes._subplots.AxesSubplot at 0x115a71310>]"
      ]
     },
     "execution_count": 85,
     "metadata": {},
     "output_type": "execute_result"
    },
    {
     "data": {
      "image/png": "[encoded data removed]",
      "text/plain": [
       "<matplotlib.figure.Figure at 0x115a71150>"
      ]
     },
     "metadata": {},
     "output_type": "display_data"
    }
   ],
   "source": [
    "fig = plt.figure()\n",
    "ax = fig.add_subplot(111)\n",
    "[df_dict ['sales'][df_dict ['sales'].segment.str.contains(s)].groupby(['date']).sum().plot(ax=ax, legend=s) for s in sex]"
   ]
  },
  {
   "cell_type": "markdown",
   "metadata": {},
   "source": [
    "### Date - TotalSales each age"
   ]
  },
  {
   "cell_type": "code",
   "execution_count": 59,
   "metadata": {
    "collapsed": false,
    "scrolled": true
   },
   "outputs": [
    {
     "data": {
      "text/html": [
       "<div>\n",
       "<table border=\"1\" class=\"dataframe\">\n",
       "  <thead>\n",
       "    <tr style=\"text-align: right;\">\n",
       "      <th>date</th>\n",
       "      <th>201506</th>\n",
       "      <th>201507</th>\n",
       "      <th>201508</th>\n",
       "      <th>201509</th>\n",
       "      <th>201510</th>\n",
       "      <th>201511</th>\n",
       "      <th>201512</th>\n",
       "      <th>201601</th>\n",
       "      <th>201602</th>\n",
       "      <th>201603</th>\n",
       "      <th>201604</th>\n",
       "      <th>201605</th>\n",
       "    </tr>\n",
       "  </thead>\n",
       "  <tbody>\n",
       "    <tr>\n",
       "      <th>quantity</th>\n",
       "      <td>3334.8357</td>\n",
       "      <td>3122.0695</td>\n",
       "      <td>2686.372</td>\n",
       "      <td>2896.0489</td>\n",
       "      <td>3659.3105</td>\n",
       "      <td>3456.8815</td>\n",
       "      <td>3581.3318</td>\n",
       "      <td>3737.9602</td>\n",
       "      <td>3518.7826</td>\n",
       "      <td>3958.6846</td>\n",
       "      <td>3834.6776</td>\n",
       "      <td>3772.7777</td>\n",
       "    </tr>\n",
       "  </tbody>\n",
       "</table>\n",
       "</div>"
      ],
      "text/plain": [
       "date         201506     201507    201508     201509     201510     201511  \\\n",
       "quantity  3334.8357  3122.0695  2686.372  2896.0489  3659.3105  3456.8815   \n",
       "\n",
       "date         201512     201601     201602     201603     201604     201605  \n",
       "quantity  3581.3318  3737.9602  3518.7826  3958.6846  3834.6776  3772.7777  "
      ]
     },
     "metadata": {},
     "output_type": "display_data"
    },
    {
     "data": {
      "text/html": [
       "<div>\n",
       "<table border=\"1\" class=\"dataframe\">\n",
       "  <thead>\n",
       "    <tr style=\"text-align: right;\">\n",
       "      <th>date</th>\n",
       "      <th>201506</th>\n",
       "      <th>201507</th>\n",
       "      <th>201508</th>\n",
       "      <th>201509</th>\n",
       "      <th>201510</th>\n",
       "      <th>201511</th>\n",
       "      <th>201512</th>\n",
       "      <th>201601</th>\n",
       "      <th>201602</th>\n",
       "      <th>201603</th>\n",
       "      <th>201604</th>\n",
       "      <th>201605</th>\n",
       "    </tr>\n",
       "  </thead>\n",
       "  <tbody>\n",
       "    <tr>\n",
       "      <th>quantity</th>\n",
       "      <td>192389.1468</td>\n",
       "      <td>187991.5447</td>\n",
       "      <td>174555.5993</td>\n",
       "      <td>178699.1056</td>\n",
       "      <td>217757.7265</td>\n",
       "      <td>219109.6166</td>\n",
       "      <td>223614.4093</td>\n",
       "      <td>239399.6595</td>\n",
       "      <td>231905.1276</td>\n",
       "      <td>258347.4682</td>\n",
       "      <td>270128.3145</td>\n",
       "      <td>255969.374</td>\n",
       "    </tr>\n",
       "  </tbody>\n",
       "</table>\n",
       "</div>"
      ],
      "text/plain": [
       "date           201506       201507       201508       201509       201510  \\\n",
       "quantity  192389.1468  187991.5447  174555.5993  178699.1056  217757.7265   \n",
       "\n",
       "date           201511       201512       201601       201602       201603  \\\n",
       "quantity  219109.6166  223614.4093  239399.6595  231905.1276  258347.4682   \n",
       "\n",
       "date           201604      201605  \n",
       "quantity  270128.3145  255969.374  "
      ]
     },
     "metadata": {},
     "output_type": "display_data"
    },
    {
     "data": {
      "text/html": [
       "<div>\n",
       "<table border=\"1\" class=\"dataframe\">\n",
       "  <thead>\n",
       "    <tr style=\"text-align: right;\">\n",
       "      <th>date</th>\n",
       "      <th>201506</th>\n",
       "      <th>201507</th>\n",
       "      <th>201508</th>\n",
       "      <th>201509</th>\n",
       "      <th>201510</th>\n",
       "      <th>201511</th>\n",
       "      <th>201512</th>\n",
       "      <th>201601</th>\n",
       "      <th>201602</th>\n",
       "      <th>201603</th>\n",
       "      <th>201604</th>\n",
       "      <th>201605</th>\n",
       "    </tr>\n",
       "  </thead>\n",
       "  <tbody>\n",
       "    <tr>\n",
       "      <th>quantity</th>\n",
       "      <td>43007.8894</td>\n",
       "      <td>41440.5668</td>\n",
       "      <td>38694.2069</td>\n",
       "      <td>41030.9256</td>\n",
       "      <td>50113.0925</td>\n",
       "      <td>50197.1651</td>\n",
       "      <td>52526.3219</td>\n",
       "      <td>55207.6446</td>\n",
       "      <td>54674.192</td>\n",
       "      <td>62016.7911</td>\n",
       "      <td>64803.1144</td>\n",
       "      <td>62227.7473</td>\n",
       "    </tr>\n",
       "  </tbody>\n",
       "</table>\n",
       "</div>"
      ],
      "text/plain": [
       "date          201506      201507      201508      201509      201510  \\\n",
       "quantity  43007.8894  41440.5668  38694.2069  41030.9256  50113.0925   \n",
       "\n",
       "date          201511      201512      201601     201602      201603  \\\n",
       "quantity  50197.1651  52526.3219  55207.6446  54674.192  62016.7911   \n",
       "\n",
       "date          201604      201605  \n",
       "quantity  64803.1144  62227.7473  "
      ]
     },
     "metadata": {},
     "output_type": "display_data"
    },
    {
     "data": {
      "text/plain": [
       "[None, None, None]"
      ]
     },
     "execution_count": 59,
     "metadata": {},
     "output_type": "execute_result"
    }
   ],
   "source": [
    "[display(df_dict ['sales'][df_dict ['sales'].segment.str.contains(a)].groupby(['date']).sum().T) for a in age]"
   ]
  },
  {
   "cell_type": "code",
   "execution_count": 87,
   "metadata": {
    "collapsed": false,
    "scrolled": true
   },
   "outputs": [
    {
     "data": {
      "text/plain": [
       "[<matplotlib.axes._subplots.AxesSubplot at 0x115b16750>,\n",
       " <matplotlib.axes._subplots.AxesSubplot at 0x115c2bdd0>,\n",
       " <matplotlib.axes._subplots.AxesSubplot at 0x118bfe850>]"
      ]
     },
     "execution_count": 87,
     "metadata": {},
     "output_type": "execute_result"
    },
    {
     "data": {
      "image/png": "[encoded data removed]",
      "text/plain": [
       "<matplotlib.figure.Figure at 0x115b16590>"
      ]
     },
     "metadata": {},
     "output_type": "display_data"
    },
    {
     "data": {
      "image/png": "[encoded data removed]",
      "text/plain": [
       "<matplotlib.figure.Figure at 0x115be9a10>"
      ]
     },
     "metadata": {},
     "output_type": "display_data"
    },
    {
     "data": {
      "image/png": "[encoded data removed]",
      "text/plain": [
       "<matplotlib.figure.Figure at 0x115c03110>"
      ]
     },
     "metadata": {},
     "output_type": "display_data"
    }
   ],
   "source": [
    "[df_dict ['sales'][df_dict ['sales'].segment.str.contains(a)].groupby(['date']).sum().plot(title=a) for a in age]"
   ]
  },
  {
   "cell_type": "markdown",
   "metadata": {},
   "source": [
    "### Date - Sales each segment"
   ]
  },
  {
   "cell_type": "code",
   "execution_count": 40,
   "metadata": {
    "collapsed": false,
    "scrolled": false
   },
   "outputs": [
    {
     "data": {
      "text/html": [
       "<div>\n",
       "<table border=\"1\" class=\"dataframe\">\n",
       "  <thead>\n",
       "    <tr style=\"text-align: right;\">\n",
       "      <th>date</th>\n",
       "      <th>201506</th>\n",
       "      <th>201507</th>\n",
       "      <th>201508</th>\n",
       "      <th>201509</th>\n",
       "      <th>201510</th>\n",
       "      <th>201511</th>\n",
       "      <th>201512</th>\n",
       "      <th>201601</th>\n",
       "      <th>201602</th>\n",
       "      <th>201603</th>\n",
       "      <th>201604</th>\n",
       "      <th>201605</th>\n",
       "    </tr>\n",
       "  </thead>\n",
       "  <tbody>\n",
       "    <tr>\n",
       "      <th>quantity</th>\n",
       "      <td>1620.6071</td>\n",
       "      <td>1539.1166</td>\n",
       "      <td>1361.7982</td>\n",
       "      <td>1406.7211</td>\n",
       "      <td>1759.6038</td>\n",
       "      <td>1709.1604</td>\n",
       "      <td>1784.2748</td>\n",
       "      <td>1985.1644</td>\n",
       "      <td>1829.8693</td>\n",
       "      <td>2006.5371</td>\n",
       "      <td>1916.0082</td>\n",
       "      <td>1826.7965</td>\n",
       "    </tr>\n",
       "  </tbody>\n",
       "</table>\n",
       "</div>"
      ],
      "text/plain": [
       "date         201506     201507     201508     201509     201510     201511  \\\n",
       "quantity  1620.6071  1539.1166  1361.7982  1406.7211  1759.6038  1709.1604   \n",
       "\n",
       "date         201512     201601     201602     201603     201604     201605  \n",
       "quantity  1784.2748  1985.1644  1829.8693  2006.5371  1916.0082  1826.7965  "
      ]
     },
     "metadata": {},
     "output_type": "display_data"
    },
    {
     "data": {
      "text/html": [
       "<div>\n",
       "<table border=\"1\" class=\"dataframe\">\n",
       "  <thead>\n",
       "    <tr style=\"text-align: right;\">\n",
       "      <th>date</th>\n",
       "      <th>201506</th>\n",
       "      <th>201507</th>\n",
       "      <th>201508</th>\n",
       "      <th>201509</th>\n",
       "      <th>201510</th>\n",
       "      <th>201511</th>\n",
       "      <th>201512</th>\n",
       "      <th>201601</th>\n",
       "      <th>201602</th>\n",
       "      <th>201603</th>\n",
       "      <th>201604</th>\n",
       "      <th>201605</th>\n",
       "    </tr>\n",
       "  </thead>\n",
       "  <tbody>\n",
       "    <tr>\n",
       "      <th>quantity</th>\n",
       "      <td>133583.3499</td>\n",
       "      <td>130406.8198</td>\n",
       "      <td>121576.8403</td>\n",
       "      <td>126365.2052</td>\n",
       "      <td>152505.3098</td>\n",
       "      <td>154147.9651</td>\n",
       "      <td>158561.1826</td>\n",
       "      <td>169291.4316</td>\n",
       "      <td>162800.7891</td>\n",
       "      <td>180494.8867</td>\n",
       "      <td>186172.6297</td>\n",
       "      <td>174514.6121</td>\n",
       "    </tr>\n",
       "  </tbody>\n",
       "</table>\n",
       "</div>"
      ],
      "text/plain": [
       "date           201506       201507       201508       201509       201510  \\\n",
       "quantity  133583.3499  130406.8198  121576.8403  126365.2052  152505.3098   \n",
       "\n",
       "date           201511       201512       201601       201602       201603  \\\n",
       "quantity  154147.9651  158561.1826  169291.4316  162800.7891  180494.8867   \n",
       "\n",
       "date           201604       201605  \n",
       "quantity  186172.6297  174514.6121  "
      ]
     },
     "metadata": {},
     "output_type": "display_data"
    },
    {
     "data": {
      "text/html": [
       "<div>\n",
       "<table border=\"1\" class=\"dataframe\">\n",
       "  <thead>\n",
       "    <tr style=\"text-align: right;\">\n",
       "      <th>date</th>\n",
       "      <th>201506</th>\n",
       "      <th>201507</th>\n",
       "      <th>201508</th>\n",
       "      <th>201509</th>\n",
       "      <th>201510</th>\n",
       "      <th>201511</th>\n",
       "      <th>201512</th>\n",
       "      <th>201601</th>\n",
       "      <th>201602</th>\n",
       "      <th>201603</th>\n",
       "      <th>201604</th>\n",
       "      <th>201605</th>\n",
       "    </tr>\n",
       "  </thead>\n",
       "  <tbody>\n",
       "    <tr>\n",
       "      <th>quantity</th>\n",
       "      <td>25927.4172</td>\n",
       "      <td>24960.0623</td>\n",
       "      <td>23413.2193</td>\n",
       "      <td>25030.7885</td>\n",
       "      <td>30192.9893</td>\n",
       "      <td>30509.4488</td>\n",
       "      <td>32414.4211</td>\n",
       "      <td>33989.975</td>\n",
       "      <td>33562.241</td>\n",
       "      <td>37938.022</td>\n",
       "      <td>38555.9983</td>\n",
       "      <td>36884.5275</td>\n",
       "    </tr>\n",
       "  </tbody>\n",
       "</table>\n",
       "</div>"
      ],
      "text/plain": [
       "date          201506      201507      201508      201509      201510  \\\n",
       "quantity  25927.4172  24960.0623  23413.2193  25030.7885  30192.9893   \n",
       "\n",
       "date          201511      201512     201601     201602     201603      201604  \\\n",
       "quantity  30509.4488  32414.4211  33989.975  33562.241  37938.022  38555.9983   \n",
       "\n",
       "date          201605  \n",
       "quantity  36884.5275  "
      ]
     },
     "metadata": {},
     "output_type": "display_data"
    },
    {
     "data": {
      "text/html": [
       "<div>\n",
       "<table border=\"1\" class=\"dataframe\">\n",
       "  <thead>\n",
       "    <tr style=\"text-align: right;\">\n",
       "      <th>date</th>\n",
       "      <th>201506</th>\n",
       "      <th>201507</th>\n",
       "      <th>201508</th>\n",
       "      <th>201509</th>\n",
       "      <th>201510</th>\n",
       "      <th>201511</th>\n",
       "      <th>201512</th>\n",
       "      <th>201601</th>\n",
       "      <th>201602</th>\n",
       "      <th>201603</th>\n",
       "      <th>201604</th>\n",
       "      <th>201605</th>\n",
       "    </tr>\n",
       "  </thead>\n",
       "  <tbody>\n",
       "    <tr>\n",
       "      <th>quantity</th>\n",
       "      <td>1714.2286</td>\n",
       "      <td>1582.9529</td>\n",
       "      <td>1324.5738</td>\n",
       "      <td>1489.3278</td>\n",
       "      <td>1899.7067</td>\n",
       "      <td>1747.7211</td>\n",
       "      <td>1797.057</td>\n",
       "      <td>1752.7958</td>\n",
       "      <td>1688.9133</td>\n",
       "      <td>1952.1475</td>\n",
       "      <td>1918.6694</td>\n",
       "      <td>1945.9812</td>\n",
       "    </tr>\n",
       "  </tbody>\n",
       "</table>\n",
       "</div>"
      ],
      "text/plain": [
       "date         201506     201507     201508     201509     201510     201511  \\\n",
       "quantity  1714.2286  1582.9529  1324.5738  1489.3278  1899.7067  1747.7211   \n",
       "\n",
       "date        201512     201601     201602     201603     201604     201605  \n",
       "quantity  1797.057  1752.7958  1688.9133  1952.1475  1918.6694  1945.9812  "
      ]
     },
     "metadata": {},
     "output_type": "display_data"
    },
    {
     "data": {
      "text/html": [
       "<div>\n",
       "<table border=\"1\" class=\"dataframe\">\n",
       "  <thead>\n",
       "    <tr style=\"text-align: right;\">\n",
       "      <th>date</th>\n",
       "      <th>201506</th>\n",
       "      <th>201507</th>\n",
       "      <th>201508</th>\n",
       "      <th>201509</th>\n",
       "      <th>201510</th>\n",
       "      <th>201511</th>\n",
       "      <th>201512</th>\n",
       "      <th>201601</th>\n",
       "      <th>201602</th>\n",
       "      <th>201603</th>\n",
       "      <th>201604</th>\n",
       "      <th>201605</th>\n",
       "    </tr>\n",
       "  </thead>\n",
       "  <tbody>\n",
       "    <tr>\n",
       "      <th>quantity</th>\n",
       "      <td>58805.7969</td>\n",
       "      <td>57584.7249</td>\n",
       "      <td>52978.759</td>\n",
       "      <td>52333.9004</td>\n",
       "      <td>65252.4167</td>\n",
       "      <td>64961.6515</td>\n",
       "      <td>65053.2267</td>\n",
       "      <td>70108.2279</td>\n",
       "      <td>69104.3385</td>\n",
       "      <td>77852.5815</td>\n",
       "      <td>83955.6848</td>\n",
       "      <td>81454.7619</td>\n",
       "    </tr>\n",
       "  </tbody>\n",
       "</table>\n",
       "</div>"
      ],
      "text/plain": [
       "date          201506      201507     201508      201509      201510  \\\n",
       "quantity  58805.7969  57584.7249  52978.759  52333.9004  65252.4167   \n",
       "\n",
       "date          201511      201512      201601      201602      201603  \\\n",
       "quantity  64961.6515  65053.2267  70108.2279  69104.3385  77852.5815   \n",
       "\n",
       "date          201604      201605  \n",
       "quantity  83955.6848  81454.7619  "
      ]
     },
     "metadata": {},
     "output_type": "display_data"
    },
    {
     "data": {
      "text/html": [
       "<div>\n",
       "<table border=\"1\" class=\"dataframe\">\n",
       "  <thead>\n",
       "    <tr style=\"text-align: right;\">\n",
       "      <th>date</th>\n",
       "      <th>201506</th>\n",
       "      <th>201507</th>\n",
       "      <th>201508</th>\n",
       "      <th>201509</th>\n",
       "      <th>201510</th>\n",
       "      <th>201511</th>\n",
       "      <th>201512</th>\n",
       "      <th>201601</th>\n",
       "      <th>201602</th>\n",
       "      <th>201603</th>\n",
       "      <th>201604</th>\n",
       "      <th>201605</th>\n",
       "    </tr>\n",
       "  </thead>\n",
       "  <tbody>\n",
       "    <tr>\n",
       "      <th>quantity</th>\n",
       "      <td>17080.4722</td>\n",
       "      <td>16480.5045</td>\n",
       "      <td>15280.9876</td>\n",
       "      <td>16000.1371</td>\n",
       "      <td>19920.1032</td>\n",
       "      <td>19687.7163</td>\n",
       "      <td>20111.9008</td>\n",
       "      <td>21217.6696</td>\n",
       "      <td>21111.951</td>\n",
       "      <td>24078.7691</td>\n",
       "      <td>26247.1161</td>\n",
       "      <td>25343.2198</td>\n",
       "    </tr>\n",
       "  </tbody>\n",
       "</table>\n",
       "</div>"
      ],
      "text/plain": [
       "date          201506      201507      201508      201509      201510  \\\n",
       "quantity  17080.4722  16480.5045  15280.9876  16000.1371  19920.1032   \n",
       "\n",
       "date          201511      201512      201601     201602      201603  \\\n",
       "quantity  19687.7163  20111.9008  21217.6696  21111.951  24078.7691   \n",
       "\n",
       "date          201604      201605  \n",
       "quantity  26247.1161  25343.2198  "
      ]
     },
     "metadata": {},
     "output_type": "display_data"
    },
    {
     "data": {
      "text/plain": [
       "[None, None, None, None, None, None]"
      ]
     },
     "execution_count": 40,
     "metadata": {},
     "output_type": "execute_result"
    }
   ],
   "source": [
    "[display(df_dict ['sales'][df_dict ['sales'].segment==seg].groupby(['date']).sum().T) for seg in segments]"
   ]
  },
  {
   "cell_type": "code",
   "execution_count": 42,
   "metadata": {
    "collapsed": false,
    "scrolled": true
   },
   "outputs": [
    {
     "data": {
      "text/plain": [
       "[<matplotlib.axes._subplots.AxesSubplot at 0x118a720d0>,\n",
       " <matplotlib.axes._subplots.AxesSubplot at 0x11fde3790>,\n",
       " <matplotlib.axes._subplots.AxesSubplot at 0x11c069310>,\n",
       " <matplotlib.axes._subplots.AxesSubplot at 0x11c1ad510>,\n",
       " <matplotlib.axes._subplots.AxesSubplot at 0x125e9c850>,\n",
       " <matplotlib.axes._subplots.AxesSubplot at 0x11c256410>]"
      ]
     },
     "execution_count": 42,
     "metadata": {},
     "output_type": "execute_result"
    },
    {
     "data": {
      "image/png": "[encoded data removed]",
      "text/plain": [
       "<matplotlib.figure.Figure at 0x115e1aad0>"
      ]
     },
     "metadata": {},
     "output_type": "display_data"
    },
    {
     "data": {
      "image/png": "[encoded data removed]",
      "text/plain": [
       "<matplotlib.figure.Figure at 0x116227cd0>"
      ]
     },
     "metadata": {},
     "output_type": "display_data"
    },
    {
     "data": {
      "image/png": "[encoded data removed]",
      "text/plain": [
       "<matplotlib.figure.Figure at 0x11c47fa90>"
      ]
     },
     "metadata": {},
     "output_type": "display_data"
    },
    {
     "data": {
      "image/png": "[encoded data removed]",
      "text/plain": [
       "<matplotlib.figure.Figure at 0x118ac0690>"
      ]
     },
     "metadata": {},
     "output_type": "display_data"
    },
    {
     "data": {
      "image/png": "[encoded data removed]",
      "text/plain": [
       "<matplotlib.figure.Figure at 0x11c12efd0>"
      ]
     },
     "metadata": {},
     "output_type": "display_data"
    },
    {
     "data": {
      "image/png": "[encoded data removed]",
      "text/plain": [
       "<matplotlib.figure.Figure at 0x125e6a890>"
      ]
     },
     "metadata": {},
     "output_type": "display_data"
    }
   ],
   "source": [
    "[df_dict ['sales'][df_dict ['sales'].segment==seg].groupby(['date']).sum().plot(title=seg) for seg in segments]"
   ]
  },
  {
   "cell_type": "code",
   "execution_count": null,
   "metadata": {
    "collapsed": true
   },
   "outputs": [],
   "source": []
  }
 ],
 "metadata": {
  "kernelspec": {
   "display_name": "Python 2",
   "language": "python",
   "name": "python2"
  },
  "language_info": {
   "codemirror_mode": {
    "name": "ipython",
    "version": 2
   },
   "file_extension": ".py",
   "mimetype": "text/x-python",
   "name": "python",
   "nbconvert_exporter": "python",
   "pygments_lexer": "ipython2",
   "version": "2.7.11"
  }
 },
 "nbformat": 4,
 "nbformat_minor": 0
}
